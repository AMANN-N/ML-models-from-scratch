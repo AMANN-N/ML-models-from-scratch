{
 "cells": [
  {
   "cell_type": "code",
   "execution_count": null,
   "id": "b5e0f3ef",
   "metadata": {},
   "outputs": [],
   "source": [
    "#Basically the difference a Probability distribution A has from the base distribution B, It helps in knowing the data drift in ML\n",
    "\n",
    "\n",
    "import numpy as np\n",
    "\n",
    "\n",
    "def KL(A , B):\n",
    "    sumu = 0\n",
    "    for i in range(len(A)):\n",
    "        sumu = sumu + A[i]*(np.log(A[i]/B[i]))\n",
    "    kl = -1*sumu\n",
    "\n",
    "    return kl\n"
   ]
  }
 ],
 "metadata": {
  "language_info": {
   "name": "python"
  }
 },
 "nbformat": 4,
 "nbformat_minor": 5
}
