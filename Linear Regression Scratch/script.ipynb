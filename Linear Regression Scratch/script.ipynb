{
 "cells": [
  {
   "cell_type": "markdown",
   "id": "3f8a1e57",
   "metadata": {},
   "source": [
    "Notes -  \n",
    "\n",
    "\n",
    "\n",
    "1. Simple one - Calculate slope and intercept\n",
    "    num = y*x / x*x\n",
    "    slope = den / num\n",
    "    intercept = y - slope*x\n",
    "\n",
    "2. Vectorized \n",
    "\n",
    "    Calculate weight matrix - \n",
    "    W = np.linalg.inv(X.T @ X) @ X.T @ y\n",
    "    Y = X @ W\n"
   ]
  },
  {
   "cell_type": "code",
   "execution_count": 6,
   "id": "993d2181",
   "metadata": {},
   "outputs": [
    {
     "name": "stdout",
     "output_type": "stream",
     "text": [
      "1.0\n",
      "0.0\n",
      "[np.float64(1.0), np.float64(2.0), np.float64(3.0), np.float64(4.0), np.float64(5.0)]\n"
     ]
    }
   ],
   "source": [
    "import numpy as np\n",
    "import pandas as pd\n",
    "\n",
    "\n",
    "\n",
    "class LinearRegression:\n",
    "    def __init__(self):\n",
    "        self.slope = None\n",
    "        self.intercept = None\n",
    "    \n",
    "    def fit(self , X , y):\n",
    "        x_mean = np.mean(X)\n",
    "        y_mean = np.mean(y)\n",
    "        num = 0\n",
    "        den = 0\n",
    "\n",
    "        for i in range(len(X)):\n",
    "            num = num + ((X[i] - x_mean)*(y[i]-y_mean))\n",
    "            den = den + (X[i] - x_mean) ** 2\n",
    "        \n",
    "        self.slope = num/den\n",
    "        self.intercept = y_mean - (self.slope*x_mean)\n",
    "\n",
    "    def predict(self , X):\n",
    "        y_pred = []\n",
    "        for x in X:\n",
    "            y_pred.append(self.slope*x + self.intercept)\n",
    "        return y_pred\n",
    "        \n",
    "    \n",
    "X = np.array([1 , 2 , 3 , 4 , 5])\n",
    "y = np.array([1 , 2 , 3 , 4 , 5])\n",
    "\n",
    "lr = LinearRegression()\n",
    "lr.fit(X , y)\n",
    "\n",
    "print(lr.slope)\n",
    "print(lr.intercept)\n",
    "\n",
    "y_pred = lr.predict(X)\n",
    "print(y_pred)"
   ]
  },
  {
   "cell_type": "markdown",
   "id": "ecff18d2",
   "metadata": {},
   "source": [
    "VECTORIZED LINEAR REGRESSION"
   ]
  },
  {
   "cell_type": "code",
   "execution_count": 10,
   "id": "58ef6e21",
   "metadata": {},
   "outputs": [
    {
     "name": "stdout",
     "output_type": "stream",
     "text": [
      "[3. 1. 2.]\n",
      "[10. 19. 31.]\n"
     ]
    }
   ],
   "source": [
    "import numpy as np\n",
    "import pandas as pd\n",
    "\n",
    "\n",
    "#since Y = WX\n",
    "\n",
    "class LinearRegression2:\n",
    "    def __init__(self):\n",
    "        self.w = None\n",
    "\n",
    "    def fit(self , X , y):\n",
    "        n = X.shape[0]\n",
    "        X = np.hstack([np.ones((n , 1)) , X])\n",
    "        self.w = np.linalg.inv(X.T @ X) @ X.T @ y\n",
    "    \n",
    "    def predict(self , X):\n",
    "        n = X.shape[0]\n",
    "        X = np.hstack([X , np.ones((n , 1)) ])\n",
    "        y = X @ self.w\n",
    "        return y\n",
    "\n",
    "\n",
    "# Create example input data\n",
    "X = np.array([[2, 2], [4, 5], [7, 8]])\n",
    "y = np.array([9, 17, 26])\n",
    "\n",
    "lr = LinearRegression2()\n",
    "lr.fit(X , y)\n",
    "print(lr.w)\n",
    "\n",
    "y_pred = lr.predict(X)\n",
    "print(y_pred)\n",
    "\n",
    "\n"
   ]
  }
 ],
 "metadata": {
  "kernelspec": {
   "display_name": "mlscripts",
   "language": "python",
   "name": "python3"
  },
  "language_info": {
   "codemirror_mode": {
    "name": "ipython",
    "version": 3
   },
   "file_extension": ".py",
   "mimetype": "text/x-python",
   "name": "python",
   "nbconvert_exporter": "python",
   "pygments_lexer": "ipython3",
   "version": "3.13.0"
  }
 },
 "nbformat": 4,
 "nbformat_minor": 5
}
