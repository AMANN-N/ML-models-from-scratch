{
 "cells": [
  {
   "cell_type": "code",
   "execution_count": null,
   "id": "9ee072f0",
   "metadata": {},
   "outputs": [],
   "source": [
    "import numpy as np"
   ]
  }
 ],
 "metadata": {
  "language_info": {
   "name": "python"
  }
 },
 "nbformat": 4,
 "nbformat_minor": 5
}
