{
 "cells": [
  {
   "cell_type": "markdown",
   "id": "d7248ed6",
   "metadata": {},
   "source": [
    "Logistic Regression Notes - \n",
    "\n",
    "\n",
    "\n"
   ]
  },
  {
   "cell_type": "code",
   "execution_count": 1,
   "id": "0b8a783b",
   "metadata": {},
   "outputs": [],
   "source": [
    "import numpy as np\n",
    "import pandas as pd\n"
   ]
  },
  {
   "cell_type": "code",
   "execution_count": 6,
   "id": "3d23cb69",
   "metadata": {},
   "outputs": [
    {
     "name": "stdout",
     "output_type": "stream",
     "text": [
      "[1 1]\n"
     ]
    }
   ],
   "source": [
    "class LogisticRegression:\n",
    "    def __init__(self , lr = 0.001 , n_iters = 10):\n",
    "        self.weight = None\n",
    "        self.bias = None\n",
    "        self.n_iters = n_iters\n",
    "        self.lr = lr\n",
    "\n",
    "    def fit(self , X , Y  ):\n",
    "\n",
    "        n_samples , n_features  = X.shape\n",
    "        self.weight = np.zeros(n_features)\n",
    "        self.bias = 0\n",
    "\n",
    "        for i in range(self.n_iters):\n",
    "            z = np.dot(X , self.weight) + self.bias\n",
    "            y_pred = self._sigmoid(z)\n",
    "            cost = (-1 / n_samples) * np.sum(y * np.log(y_pred) + (1 - y) * np.log(1 - y_pred))\n",
    "\n",
    "            dw = (1/n_samples) * (np.dot(X.T , (y_pred - Y)))\n",
    "            db = (1 / n_samples) * np.sum(y_pred - Y)\n",
    "\n",
    "            self.weight -= self.lr * dw\n",
    "            self.bias -= self.lr * db\n",
    "\n",
    "\n",
    "    def predict(self, X):\n",
    "        z = np.dot(X, self.weight) + self.bias\n",
    "        y_pred = self._sigmoid(z)\n",
    "        return np.round(y_pred).astype(int)\n",
    "    \n",
    "    def _sigmoid(self, z):\n",
    "        return 1 / (1 + np.exp(-z))\n",
    "\n",
    "\n",
    "\n",
    "\n",
    "X = np.array([[1, 2], [2, 3], [3, 4], [4, 5], [5, 6]])\n",
    "y = np.array([0, 0, 1, 1, 1])\n",
    "\n",
    "lr = LogisticRegression()\n",
    "\n",
    "lr.fit(X, y)\n",
    "\n",
    "X_new = np.array([[6, 7], [7, 8]])\n",
    "y_pred = lr.predict(X_new)\n",
    "\n",
    "print(y_pred)  # [1, 1]"
   ]
  }
 ],
 "metadata": {
  "kernelspec": {
   "display_name": "mlscripts",
   "language": "python",
   "name": "python3"
  },
  "language_info": {
   "codemirror_mode": {
    "name": "ipython",
    "version": 3
   },
   "file_extension": ".py",
   "mimetype": "text/x-python",
   "name": "python",
   "nbconvert_exporter": "python",
   "pygments_lexer": "ipython3",
   "version": "3.13.0"
  }
 },
 "nbformat": 4,
 "nbformat_minor": 5
}
